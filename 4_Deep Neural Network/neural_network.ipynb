{
 "cells": [
  {
   "cell_type": "code",
   "execution_count": 27,
   "metadata": {},
   "outputs": [],
   "source": [
    "# 2019/08/23\n",
    "# Chih-Hsiang Wang"
   ]
  },
  {
   "cell_type": "code",
   "execution_count": 28,
   "metadata": {},
   "outputs": [],
   "source": [
    "import numpy as np\n",
    "import matplotlib.pyplot as plt\n",
    "from sklearn import datasets\n",
    "import keras\n",
    "from keras.models import Sequential\n",
    "from keras.layers import Dense\n",
    "from keras.optimizers import Adam"
   ]
  },
  {
   "cell_type": "code",
   "execution_count": 29,
   "metadata": {},
   "outputs": [],
   "source": [
    "np.random.seed(0)"
   ]
  },
  {
   "cell_type": "code",
   "execution_count": 30,
   "metadata": {},
   "outputs": [
    {
     "data": {
      "text/plain": [
       "<matplotlib.collections.PathCollection at 0x136632160>"
      ]
     },
     "execution_count": 30,
     "metadata": {},
     "output_type": "execute_result"
    },
    {
     "data": {
      "image/png": "[encoded data removed]",
      "text/plain": [
       "<Figure size 432x288 with 1 Axes>"
      ]
     },
     "metadata": {
      "needs_background": "light"
     },
     "output_type": "display_data"
    }
   ],
   "source": [
    "n_pts = 500\n",
    "X, y = datasets.make_circles(n_samples=n_pts, random_state=123, noise=0.1, factor=0.2)\n",
    "# print(X) \n",
    "# print(y)\n",
    " \n",
    "plt.scatter(X[y==0, 0], X[y==0, 1])\n",
    "plt.scatter(X[y==1, 0], X[y==1, 1])"
   ]
  },
  {
   "cell_type": "code",
   "execution_count": null,
   "metadata": {},
   "outputs": [
    {
     "name": "stdout",
     "output_type": "stream",
     "text": [
      "Epoch 1/100\n",
      "500/500 [==============================] - 0s 599us/step - loss: 0.6962 - acc: 0.5140\n",
      "Epoch 2/100\n",
      "500/500 [==============================] - 0s 57us/step - loss: 0.6938 - acc: 0.6180\n",
      "Epoch 3/100\n",
      "500/500 [==============================] - 0s 56us/step - loss: 0.6926 - acc: 0.5160\n",
      "Epoch 4/100\n",
      "500/500 [==============================] - 0s 61us/step - loss: 0.6916 - acc: 0.6760\n",
      "Epoch 5/100\n",
      "500/500 [==============================] - 0s 55us/step - loss: 0.6905 - acc: 0.6340\n",
      "Epoch 6/100\n",
      "500/500 [==============================] - 0s 60us/step - loss: 0.6890 - acc: 0.3640\n",
      "Epoch 7/100\n",
      "500/500 [==============================] - 0s 58us/step - loss: 0.6866 - acc: 0.6500\n",
      "Epoch 8/100\n",
      "500/500 [==============================] - 0s 52us/step - loss: 0.6839 - acc: 0.6720\n",
      "Epoch 9/100\n",
      "500/500 [==============================] - 0s 58us/step - loss: 0.6796 - acc: 0.7600\n",
      "Epoch 10/100\n",
      "500/500 [==============================] - 0s 52us/step - loss: 0.6734 - acc: 0.7980\n",
      "Epoch 11/100\n",
      "500/500 [==============================] - 0s 53us/step - loss: 0.6660 - acc: 0.8380\n",
      "Epoch 12/100\n",
      "500/500 [==============================] - 0s 61us/step - loss: 0.6548 - acc: 0.8580\n",
      "Epoch 13/100\n",
      "500/500 [==============================] - 0s 53us/step - loss: 0.6422 - acc: 0.8780\n",
      "Epoch 14/100\n",
      "500/500 [==============================] - 0s 50us/step - loss: 0.6270 - acc: 0.8920\n",
      "Epoch 15/100\n",
      "500/500 [==============================] - 0s 58us/step - loss: 0.6078 - acc: 0.8800\n",
      "Epoch 16/100\n",
      "500/500 [==============================] - 0s 52us/step - loss: 0.5884 - acc: 0.8700\n",
      "Epoch 17/100\n",
      "500/500 [==============================] - 0s 50us/step - loss: 0.5678 - acc: 0.8860\n",
      "Epoch 18/100\n",
      "500/500 [==============================] - 0s 53us/step - loss: 0.5444 - acc: 0.8560\n",
      "Epoch 19/100\n",
      "500/500 [==============================] - 0s 58us/step - loss: 0.5222 - acc: 0.8860\n",
      "Epoch 20/100\n",
      "500/500 [==============================] - 0s 61us/step - loss: 0.4978 - acc: 0.8880\n",
      "Epoch 21/100\n",
      "500/500 [==============================] - 0s 64us/step - loss: 0.4754 - acc: 0.8880\n",
      "Epoch 22/100\n",
      "500/500 [==============================] - 0s 71us/step - loss: 0.4526 - acc: 0.8920\n",
      "Epoch 23/100\n",
      "500/500 [==============================] - 0s 71us/step - loss: 0.4303 - acc: 0.8920\n",
      "Epoch 24/100\n",
      "500/500 [==============================] - 0s 68us/step - loss: 0.4095 - acc: 0.9040\n",
      "Epoch 25/100\n",
      "500/500 [==============================] - 0s 50us/step - loss: 0.3900 - acc: 0.9000\n",
      "Epoch 26/100\n",
      "500/500 [==============================] - 0s 58us/step - loss: 0.3703 - acc: 0.9140\n",
      "Epoch 27/100\n",
      "500/500 [==============================] - 0s 49us/step - loss: 0.3518 - acc: 0.9100\n",
      "Epoch 28/100\n",
      "500/500 [==============================] - 0s 52us/step - loss: 0.3346 - acc: 0.9160\n",
      "Epoch 29/100\n",
      "500/500 [==============================] - 0s 58us/step - loss: 0.3178 - acc: 0.9180\n",
      "Epoch 30/100\n",
      "500/500 [==============================] - 0s 57us/step - loss: 0.3023 - acc: 0.9220\n",
      "Epoch 31/100\n",
      "500/500 [==============================] - 0s 53us/step - loss: 0.2873 - acc: 0.9240\n",
      "Epoch 32/100\n",
      "500/500 [==============================] - 0s 58us/step - loss: 0.2736 - acc: 0.9320\n",
      "Epoch 33/100\n",
      "500/500 [==============================] - 0s 51us/step - loss: 0.2607 - acc: 0.9420\n"
     ]
    }
   ],
   "source": [
    "model = Sequential()\n",
    "model.add(Dense(4, input_shape=(2,), activation='sigmoid'))\n",
    "model.add(Dense(1, activation='sigmoid'))\n",
    "model.compile(Adam(lr = 0.01), 'binary_crossentropy', metrics=['accuracy'])\n",
    "\n",
    "h = model.fit(x=X, y=y, verbose=1, batch_size=20, epochs=100, shuffle='true')"
   ]
  },
  {
   "cell_type": "code",
   "execution_count": null,
   "metadata": {},
   "outputs": [],
   "source": [
    "plt.plot(h.history['acc'])\n",
    "plt.legend(['accuracy'])\n",
    "plt.ylabel('accuracy')\n",
    "plt.xlabel('epoch')\n",
    " \n",
    "plt.plot(h.history['loss'])\n",
    "plt.legend(['loss'])\n",
    "plt.title('loss')\n",
    "plt.xlabel('epoch')"
   ]
  },
  {
   "cell_type": "code",
   "execution_count": null,
   "metadata": {},
   "outputs": [],
   "source": [
    "def plot_decision_boundary(X, y, model):\n",
    "    x_span = np.linspace(min(X[:,0]) - 0.25, max(X[:,0]) + 0.25)\n",
    "    y_span = np.linspace(min(X[:,1]) - 0.25, max(X[:,1]) + 0.25)\n",
    "    xx, yy = np.meshgrid(x_span, y_span)\n",
    "    grid = np.c_[xx.ravel(), yy.ravel()]\n",
    "    pred_func = model.predict(grid)\n",
    "    z = pred_func.reshape(xx.shape)\n",
    "    plt.contourf(xx, yy, z)\n",
    "plot_decision_boundary(X, y, model)\n",
    "plt.scatter(X[y==0, 0], X[y==0, 1])\n",
    "plt.scatter(X[y==1, 0], X[y==1, 1])\n",
    "plot_decision_boundary(X, y, model)\n",
    "plt.scatter(X[y==0, 0], X[y==0, 1])\n",
    "plt.scatter(X[y==1, 0], X[y==1, 1])\n",
    " \n",
    "x = 0\n",
    "y = 0.75\n",
    " \n",
    "point = np.array([[x, y]])\n",
    "predict = model.predict(point)\n",
    "plt.plot([x], [y], marker='x', markersize=10, color=\"red\")\n",
    "print(\"Prediction is: \", predict)"
   ]
  },
  {
   "cell_type": "code",
   "execution_count": null,
   "metadata": {},
   "outputs": [],
   "source": []
  }
 ],
 "metadata": {
  "kernelspec": {
   "display_name": "Python 3",
   "language": "python",
   "name": "python3"
  },
  "language_info": {
   "codemirror_mode": {
    "name": "ipython",
    "version": 3
   },
   "file_extension": ".py",
   "mimetype": "text/x-python",
   "name": "python",
   "nbconvert_exporter": "python",
   "pygments_lexer": "ipython3",
   "version": "3.7.0"
  }
 },
 "nbformat": 4,
 "nbformat_minor": 4
}
