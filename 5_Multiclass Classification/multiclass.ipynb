{
 "cells": [
  {
   "cell_type": "code",
   "execution_count": 43,
   "metadata": {},
   "outputs": [],
   "source": [
    "# 2019/08/23\n",
    "# Chih-Hsiang Wang"
   ]
  },
  {
   "cell_type": "code",
   "execution_count": 44,
   "metadata": {},
   "outputs": [],
   "source": [
    "import numpy as np\n",
    "import keras\n",
    "from sklearn import datasets\n",
    "import matplotlib.pyplot as plt\n",
    "from keras.models import Sequential\n",
    "from keras.layers import Dense\n",
    "from keras.optimizers import Adam\n",
    "from keras.utils.np_utils import to_categorical"
   ]
  },
  {
   "cell_type": "code",
   "execution_count": 45,
   "metadata": {},
   "outputs": [],
   "source": [
    "n_pts = 500\n",
    "centers = [[-1, 1], [-1, -1], [1, -1], [1, 1], [0, 0]]\n",
    "X, y = datasets.make_blobs(n_samples=n_pts, random_state = 123, centers=centers, cluster_std=0.4)"
   ]
  },
  {
   "cell_type": "code",
   "execution_count": 46,
   "metadata": {},
   "outputs": [
    {
     "data": {
      "text/plain": [
       "<matplotlib.collections.PathCollection at 0x1318e2dd8>"
      ]
     },
     "execution_count": 46,
     "metadata": {},
     "output_type": "execute_result"
    },
    {
     "data": {
      "image/png": "[encoded data removed]",
      "text/plain": [
       "<Figure size 432x288 with 1 Axes>"
      ]
     },
     "metadata": {
      "needs_background": "light"
     },
     "output_type": "display_data"
    }
   ],
   "source": [
    "plt.scatter(X[y==0, 0], X[y==0, 1])\n",
    "plt.scatter(X[y==1, 0], X[y==1, 1])\n",
    "plt.scatter(X[y==2, 0], X[y==2, 1])\n",
    "plt.scatter(X[y==3, 0], X[y==3, 1])\n",
    "plt.scatter(X[y==4, 0], X[y==4, 1])"
   ]
  },
  {
   "cell_type": "code",
   "execution_count": 47,
   "metadata": {},
   "outputs": [
    {
     "name": "stdout",
     "output_type": "stream",
     "text": [
      "[3 3 4 0 2 1 1 4 4 4 3 2 1 0 2 4 4 4 3 0 3 0 3 4 1 3 1 0 4 2 3 1 0 4 1 0 4\n",
      " 0 4 0 1 3 3 0 3 1 3 4 0 4 0 2 3 0 2 4 4 0 3 4 1 3 0 4 2 1 1 2 3 2 3 2 1 1\n",
      " 3 2 4 2 2 3 0 2 4 3 2 1 3 3 3 3 1 1 4 2 4 4 1 2 4 1 4 2 2 3 4 1 1 3 3 2 1\n",
      " 3 1 0 1 0 4 4 4 3 1 3 3 3 1 4 4 0 2 0 1 1 0 4 0 1 1 4 4 0 4 3 4 4 2 4 0 0\n",
      " 0 4 2 0 4 1 0 2 2 1 3 0 1 2 2 4 4 1 3 2 3 3 3 2 2 2 4 0 1 1 0 1 4 4 3 2 3\n",
      " 2 3 1 0 3 4 2 1 0 0 0 4 3 0 4 2 2 3 1 0 4 4 1 2 1 3 1 4 4 0 1 4 2 4 0 4 0\n",
      " 1 2 3 0 1 0 3 3 4 3 4 0 0 1 1 3 0 4 1 4 2 1 2 4 4 3 3 1 1 1 4 1 1 1 4 3 1\n",
      " 0 0 2 2 2 3 2 3 4 2 3 3 1 1 0 4 0 3 0 0 0 3 2 2 1 4 2 0 0 2 2 1 3 3 1 3 0\n",
      " 0 1 4 2 2 2 1 0 0 1 0 0 1 2 4 2 4 2 1 3 0 0 1 4 1 2 4 4 4 3 4 1 2 3 1 3 1\n",
      " 0 0 2 4 1 3 1 1 2 1 4 3 1 2 3 2 0 4 1 4 0 2 2 0 1 2 2 4 4 0 4 1 3 3 2 2 0\n",
      " 4 3 3 1 2 2 4 3 0 3 3 3 3 0 1 4 4 4 0 3 3 2 4 0 4 0 0 4 2 2 2 3 0 2 0 0 1\n",
      " 2 3 0 0 2 4 2 3 0 3 0 1 0 4 1 0 0 1 3 1 4 0 2 1 1 3 2 3 2 2 2 3 1 0 0 0 1\n",
      " 3 4 2 1 0 2 1 4 3 3 4 0 0 2 2 0 0 2 2 3 4 3 2 2 2 2 0 1 3 0 2 1 2 0 2 3 4\n",
      " 3 1 4 3 3 0 2 4 0 4 1 3 2 1 3 0 1 2 1]\n",
      "[[0. 0. 0. 1. 0.]\n",
      " [0. 0. 0. 1. 0.]\n",
      " [0. 0. 0. 0. 1.]\n",
      " ...\n",
      " [0. 1. 0. 0. 0.]\n",
      " [0. 0. 1. 0. 0.]\n",
      " [0. 1. 0. 0. 0.]]\n"
     ]
    }
   ],
   "source": [
    "print(y)\n",
    "y_cat = to_categorical(y, 5)\n",
    "print(y_cat)"
   ]
  },
  {
   "cell_type": "code",
   "execution_count": 48,
   "metadata": {},
   "outputs": [
    {
     "name": "stderr",
     "output_type": "stream",
     "text": [
      "W0823 18:38:37.764517 4533712320 <ipython-input-48-7a30aa7d3189>:3] Worrying Stuff\n"
     ]
    }
   ],
   "source": [
    "from absl import logging\n",
    "logging._warn_preinit_stderr = 0\n",
    "logging.warning('Worrying Stuff')\n",
    "\n",
    "model = Sequential()\n",
    "model.add(Dense(5, input_shape=(2,), activation='softmax'))\n",
    "model.compile(Adam(lr=0.1), 'categorical_crossentropy', metrics=['accuracy'])"
   ]
  },
  {
   "cell_type": "code",
   "execution_count": 49,
   "metadata": {},
   "outputs": [
    {
     "name": "stdout",
     "output_type": "stream",
     "text": [
      "Epoch 1/100\n",
      "500/500 [==============================] - 0s 447us/step - loss: 1.0462 - acc: 0.5860\n",
      "Epoch 2/100\n",
      "500/500 [==============================] - 0s 31us/step - loss: 0.5494 - acc: 0.8660\n",
      "Epoch 3/100\n",
      "500/500 [==============================] - 0s 30us/step - loss: 0.3784 - acc: 0.9280\n",
      "Epoch 4/100\n",
      "500/500 [==============================] - 0s 30us/step - loss: 0.3074 - acc: 0.9400\n",
      "Epoch 5/100\n",
      "500/500 [==============================] - 0s 28us/step - loss: 0.2708 - acc: 0.9460\n",
      "Epoch 6/100\n",
      "500/500 [==============================] - 0s 25us/step - loss: 0.2499 - acc: 0.9440\n",
      "Epoch 7/100\n",
      "500/500 [==============================] - 0s 36us/step - loss: 0.2359 - acc: 0.9420\n",
      "Epoch 8/100\n",
      "500/500 [==============================] - 0s 31us/step - loss: 0.2226 - acc: 0.9460\n",
      "Epoch 9/100\n",
      "500/500 [==============================] - 0s 29us/step - loss: 0.2136 - acc: 0.9400\n",
      "Epoch 10/100\n",
      "500/500 [==============================] - 0s 24us/step - loss: 0.2053 - acc: 0.9440\n",
      "Epoch 11/100\n",
      "500/500 [==============================] - 0s 26us/step - loss: 0.1990 - acc: 0.9520\n",
      "Epoch 12/100\n",
      "500/500 [==============================] - 0s 25us/step - loss: 0.1932 - acc: 0.9500\n",
      "Epoch 13/100\n",
      "500/500 [==============================] - 0s 40us/step - loss: 0.1897 - acc: 0.9480\n",
      "Epoch 14/100\n",
      "500/500 [==============================] - 0s 47us/step - loss: 0.1864 - acc: 0.9440\n",
      "Epoch 15/100\n",
      "500/500 [==============================] - 0s 36us/step - loss: 0.1839 - acc: 0.9520\n",
      "Epoch 16/100\n",
      "500/500 [==============================] - 0s 55us/step - loss: 0.1800 - acc: 0.9500\n",
      "Epoch 17/100\n",
      "500/500 [==============================] - 0s 35us/step - loss: 0.1775 - acc: 0.9520\n",
      "Epoch 18/100\n",
      "500/500 [==============================] - 0s 35us/step - loss: 0.1758 - acc: 0.9460\n",
      "Epoch 19/100\n",
      "500/500 [==============================] - 0s 36us/step - loss: 0.1735 - acc: 0.9400\n",
      "Epoch 20/100\n",
      "500/500 [==============================] - 0s 29us/step - loss: 0.1715 - acc: 0.9500\n",
      "Epoch 21/100\n",
      "500/500 [==============================] - 0s 29us/step - loss: 0.1700 - acc: 0.9480\n",
      "Epoch 22/100\n",
      "500/500 [==============================] - 0s 33us/step - loss: 0.1686 - acc: 0.9460\n",
      "Epoch 23/100\n",
      "500/500 [==============================] - 0s 29us/step - loss: 0.1679 - acc: 0.9460\n",
      "Epoch 24/100\n",
      "500/500 [==============================] - 0s 25us/step - loss: 0.1665 - acc: 0.9520\n",
      "Epoch 25/100\n",
      "500/500 [==============================] - 0s 19us/step - loss: 0.1648 - acc: 0.9460\n",
      "Epoch 26/100\n",
      "500/500 [==============================] - 0s 24us/step - loss: 0.1652 - acc: 0.9480\n",
      "Epoch 27/100\n",
      "500/500 [==============================] - 0s 27us/step - loss: 0.1634 - acc: 0.9500\n",
      "Epoch 28/100\n",
      "500/500 [==============================] - 0s 24us/step - loss: 0.1614 - acc: 0.9540\n",
      "Epoch 29/100\n",
      "500/500 [==============================] - 0s 23us/step - loss: 0.1614 - acc: 0.9500\n",
      "Epoch 30/100\n",
      "500/500 [==============================] - 0s 24us/step - loss: 0.1606 - acc: 0.9500\n",
      "Epoch 31/100\n",
      "500/500 [==============================] - 0s 25us/step - loss: 0.1594 - acc: 0.9520\n",
      "Epoch 32/100\n",
      "500/500 [==============================] - 0s 30us/step - loss: 0.1590 - acc: 0.9520\n",
      "Epoch 33/100\n",
      "500/500 [==============================] - 0s 38us/step - loss: 0.1599 - acc: 0.9480\n",
      "Epoch 34/100\n",
      "500/500 [==============================] - 0s 23us/step - loss: 0.1588 - acc: 0.9500\n",
      "Epoch 35/100\n",
      "500/500 [==============================] - 0s 25us/step - loss: 0.1574 - acc: 0.9500\n",
      "Epoch 36/100\n",
      "500/500 [==============================] - 0s 26us/step - loss: 0.1565 - acc: 0.9520\n",
      "Epoch 37/100\n",
      "500/500 [==============================] - 0s 24us/step - loss: 0.1606 - acc: 0.9460\n",
      "Epoch 38/100\n",
      "500/500 [==============================] - 0s 18us/step - loss: 0.1557 - acc: 0.9520\n",
      "Epoch 39/100\n",
      "500/500 [==============================] - 0s 27us/step - loss: 0.1577 - acc: 0.9420\n",
      "Epoch 40/100\n",
      "500/500 [==============================] - 0s 25us/step - loss: 0.1568 - acc: 0.9500\n",
      "Epoch 41/100\n",
      "500/500 [==============================] - 0s 30us/step - loss: 0.1563 - acc: 0.9540\n",
      "Epoch 42/100\n",
      "500/500 [==============================] - 0s 30us/step - loss: 0.1561 - acc: 0.9500\n",
      "Epoch 43/100\n",
      "500/500 [==============================] - 0s 29us/step - loss: 0.1547 - acc: 0.9500\n",
      "Epoch 44/100\n",
      "500/500 [==============================] - 0s 26us/step - loss: 0.1561 - acc: 0.9480\n",
      "Epoch 45/100\n",
      "500/500 [==============================] - 0s 27us/step - loss: 0.1562 - acc: 0.9420\n",
      "Epoch 46/100\n",
      "500/500 [==============================] - 0s 25us/step - loss: 0.1560 - acc: 0.9480\n",
      "Epoch 47/100\n",
      "500/500 [==============================] - 0s 53us/step - loss: 0.1562 - acc: 0.9480\n",
      "Epoch 48/100\n",
      "500/500 [==============================] - 0s 34us/step - loss: 0.1534 - acc: 0.9480\n",
      "Epoch 49/100\n",
      "500/500 [==============================] - 0s 32us/step - loss: 0.1536 - acc: 0.9520\n",
      "Epoch 50/100\n",
      "500/500 [==============================] - 0s 41us/step - loss: 0.1530 - acc: 0.9500\n",
      "Epoch 51/100\n",
      "500/500 [==============================] - 0s 31us/step - loss: 0.1536 - acc: 0.9500\n",
      "Epoch 52/100\n",
      "500/500 [==============================] - 0s 39us/step - loss: 0.1534 - acc: 0.9480\n",
      "Epoch 53/100\n",
      "500/500 [==============================] - 0s 40us/step - loss: 0.1528 - acc: 0.9500\n",
      "Epoch 54/100\n",
      "500/500 [==============================] - 0s 33us/step - loss: 0.1532 - acc: 0.9500\n",
      "Epoch 55/100\n",
      "500/500 [==============================] - 0s 32us/step - loss: 0.1547 - acc: 0.9480\n",
      "Epoch 56/100\n",
      "500/500 [==============================] - 0s 34us/step - loss: 0.1523 - acc: 0.9520\n",
      "Epoch 57/100\n",
      "500/500 [==============================] - 0s 32us/step - loss: 0.1529 - acc: 0.9480\n",
      "Epoch 58/100\n",
      "500/500 [==============================] - 0s 32us/step - loss: 0.1545 - acc: 0.9480\n",
      "Epoch 59/100\n",
      "500/500 [==============================] - 0s 37us/step - loss: 0.1547 - acc: 0.9480\n",
      "Epoch 60/100\n",
      "500/500 [==============================] - 0s 29us/step - loss: 0.1529 - acc: 0.9540\n",
      "Epoch 61/100\n",
      "500/500 [==============================] - 0s 34us/step - loss: 0.1535 - acc: 0.9480\n",
      "Epoch 62/100\n",
      "500/500 [==============================] - 0s 41us/step - loss: 0.1509 - acc: 0.9520\n",
      "Epoch 63/100\n",
      "500/500 [==============================] - 0s 29us/step - loss: 0.1534 - acc: 0.9520\n",
      "Epoch 64/100\n",
      "500/500 [==============================] - 0s 39us/step - loss: 0.1525 - acc: 0.9520\n",
      "Epoch 65/100\n",
      "500/500 [==============================] - 0s 51us/step - loss: 0.1524 - acc: 0.9520\n",
      "Epoch 66/100\n",
      "500/500 [==============================] - 0s 40us/step - loss: 0.1533 - acc: 0.9440\n",
      "Epoch 67/100\n",
      "500/500 [==============================] - 0s 48us/step - loss: 0.1515 - acc: 0.9520\n",
      "Epoch 68/100\n",
      "500/500 [==============================] - 0s 33us/step - loss: 0.1537 - acc: 0.9480\n",
      "Epoch 69/100\n",
      "500/500 [==============================] - 0s 35us/step - loss: 0.1536 - acc: 0.9480\n",
      "Epoch 70/100\n",
      "500/500 [==============================] - 0s 34us/step - loss: 0.1527 - acc: 0.9480\n",
      "Epoch 71/100\n",
      "500/500 [==============================] - 0s 48us/step - loss: 0.1533 - acc: 0.9480\n",
      "Epoch 72/100\n",
      "500/500 [==============================] - 0s 39us/step - loss: 0.1523 - acc: 0.9500\n",
      "Epoch 73/100\n",
      "500/500 [==============================] - 0s 38us/step - loss: 0.1520 - acc: 0.9500\n",
      "Epoch 74/100\n",
      "500/500 [==============================] - 0s 49us/step - loss: 0.1522 - acc: 0.9500\n",
      "Epoch 75/100\n",
      "500/500 [==============================] - 0s 31us/step - loss: 0.1517 - acc: 0.9520\n",
      "Epoch 76/100\n",
      "500/500 [==============================] - 0s 31us/step - loss: 0.1523 - acc: 0.9540\n",
      "Epoch 77/100\n",
      "500/500 [==============================] - 0s 33us/step - loss: 0.1527 - acc: 0.9480\n",
      "Epoch 78/100\n",
      "500/500 [==============================] - 0s 32us/step - loss: 0.1533 - acc: 0.9480\n",
      "Epoch 79/100\n",
      "500/500 [==============================] - 0s 28us/step - loss: 0.1531 - acc: 0.9480\n",
      "Epoch 80/100\n",
      "500/500 [==============================] - 0s 35us/step - loss: 0.1529 - acc: 0.9520\n",
      "Epoch 81/100\n",
      "500/500 [==============================] - 0s 34us/step - loss: 0.1528 - acc: 0.9500\n",
      "Epoch 82/100\n",
      "500/500 [==============================] - 0s 40us/step - loss: 0.1511 - acc: 0.9500\n",
      "Epoch 83/100\n",
      "500/500 [==============================] - 0s 43us/step - loss: 0.1532 - acc: 0.9520\n",
      "Epoch 84/100\n",
      "500/500 [==============================] - 0s 41us/step - loss: 0.1519 - acc: 0.9520\n",
      "Epoch 85/100\n",
      "500/500 [==============================] - 0s 35us/step - loss: 0.1510 - acc: 0.9500\n",
      "Epoch 86/100\n",
      "500/500 [==============================] - 0s 32us/step - loss: 0.1520 - acc: 0.9520\n",
      "Epoch 87/100\n",
      "500/500 [==============================] - 0s 36us/step - loss: 0.1506 - acc: 0.9520\n",
      "Epoch 88/100\n",
      "500/500 [==============================] - 0s 39us/step - loss: 0.1523 - acc: 0.9480\n",
      "Epoch 89/100\n",
      "500/500 [==============================] - 0s 38us/step - loss: 0.1525 - acc: 0.9440\n",
      "Epoch 90/100\n",
      "500/500 [==============================] - 0s 33us/step - loss: 0.1520 - acc: 0.9500\n",
      "Epoch 91/100\n",
      "500/500 [==============================] - 0s 44us/step - loss: 0.1526 - acc: 0.9500\n",
      "Epoch 92/100\n",
      "500/500 [==============================] - 0s 35us/step - loss: 0.1530 - acc: 0.9460\n",
      "Epoch 93/100\n",
      "500/500 [==============================] - 0s 32us/step - loss: 0.1517 - acc: 0.9480\n",
      "Epoch 94/100\n",
      "500/500 [==============================] - 0s 36us/step - loss: 0.1518 - acc: 0.9520\n",
      "Epoch 95/100\n",
      "500/500 [==============================] - 0s 39us/step - loss: 0.1518 - acc: 0.9520\n",
      "Epoch 96/100\n",
      "500/500 [==============================] - 0s 35us/step - loss: 0.1529 - acc: 0.9520\n",
      "Epoch 97/100\n",
      "500/500 [==============================] - 0s 40us/step - loss: 0.1522 - acc: 0.9500\n",
      "Epoch 98/100\n",
      "500/500 [==============================] - 0s 38us/step - loss: 0.1512 - acc: 0.9520\n",
      "Epoch 99/100\n",
      "500/500 [==============================] - 0s 34us/step - loss: 0.1510 - acc: 0.9500\n",
      "Epoch 100/100\n",
      "500/500 [==============================] - 0s 36us/step - loss: 0.1516 - acc: 0.9480\n"
     ]
    }
   ],
   "source": [
    "#one hot encode output\n",
    "history = model.fit(X, y_cat, verbose=1, batch_size=50, epochs=100)"
   ]
  },
  {
   "cell_type": "code",
   "execution_count": 50,
   "metadata": {},
   "outputs": [],
   "source": [
    "def plot_multiclass_decision_boundary(X, y, model):\n",
    "    x_span = np.linspace(min(X[:,0]) - 1, max(X[:,0]) + 1)\n",
    "    y_span = np.linspace(min(X[:,1]) - 1, max(X[:,1]) + 1)\n",
    "    xx, yy = np.meshgrid(x_span, y_span)\n",
    "    grid = np.c_[xx.ravel(), yy.ravel()]\n",
    "    pred_func = model.predict_classes(grid)\n",
    "    z = pred_func.reshape(xx.shape)\n",
    "    plt.contourf(xx, yy, z)"
   ]
  },
  {
   "cell_type": "code",
   "execution_count": 51,
   "metadata": {},
   "outputs": [
    {
     "name": "stdout",
     "output_type": "stream",
     "text": [
      "Prediction is:  [4]\n"
     ]
    },
    {
     "data": {
      "image/png": "[encoded data removed]",
      "text/plain": [
       "<Figure size 432x288 with 1 Axes>"
      ]
     },
     "metadata": {
      "needs_background": "light"
     },
     "output_type": "display_data"
    }
   ],
   "source": [
    "plot_multiclass_decision_boundary(X, y_cat, model)\n",
    "plt.scatter(X[y==0, 0], X[y==0, 1])\n",
    "plt.scatter(X[y==1, 0], X[y==1, 1])\n",
    "plt.scatter(X[y==2, 0], X[y==2, 1])\n",
    "plt.scatter(X[y==3, 0], X[y==3, 1])\n",
    "plt.scatter(X[y==4, 0], X[y==4, 1])\n",
    " \n",
    "x = -0.5\n",
    "y = -0.5\n",
    " \n",
    "point = np.array([[x, y]])\n",
    "prediction = model.predict_classes(point)\n",
    "plt.plot([x], [y], marker='x', markersize=10, color=\"red\")\n",
    "print(\"Prediction is: \", prediction)"
   ]
  },
  {
   "cell_type": "code",
   "execution_count": null,
   "metadata": {},
   "outputs": [],
   "source": []
  }
 ],
 "metadata": {
  "kernelspec": {
   "display_name": "Python 3",
   "language": "python",
   "name": "python3"
  },
  "language_info": {
   "codemirror_mode": {
    "name": "ipython",
    "version": 3
   },
   "file_extension": ".py",
   "mimetype": "text/x-python",
   "name": "python",
   "nbconvert_exporter": "python",
   "pygments_lexer": "ipython3",
   "version": "3.7.0"
  }
 },
 "nbformat": 4,
 "nbformat_minor": 4
}
