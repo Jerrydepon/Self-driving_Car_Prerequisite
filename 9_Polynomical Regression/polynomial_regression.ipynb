{
  "nbformat": 4,
  "nbformat_minor": 0,
  "metadata": {
    "colab": {
      "name": "polynomial_regression.ipynb",
      "version": "0.3.2",
      "provenance": []
    },
    "kernelspec": {
      "name": "python3",
      "display_name": "Python 3"
    }
  },
  "cells": [
    {
      "cell_type": "code",
      "metadata": {
        "id": "kkaJ5M8UXo4u",
        "colab_type": "code",
        "colab": {
          "base_uri": "https://localhost:8080/",
          "height": 34
        },
        "outputId": "97700825-528d-4af6-e430-6d95563ffaca"
      },
      "source": [
        "import numpy as np\n",
        "import matplotlib.pyplot as plt\n",
        "from keras.models import Sequential\n",
        "from keras.layers import Dense\n",
        "from keras.optimizers import Adam"
      ],
      "execution_count": 1,
      "outputs": [
        {
          "output_type": "stream",
          "text": [
            "Using TensorFlow backend.\n"
          ],
          "name": "stderr"
        }
      ]
    },
    {
      "cell_type": "code",
      "metadata": {
        "id": "83Ue3urUXt96",
        "colab_type": "code",
        "colab": {}
      },
      "source": [
        "np.random.seed(0)"
      ],
      "execution_count": 0,
      "outputs": []
    },
    {
      "cell_type": "code",
      "metadata": {
        "id": "u2_vBV0OXwh4",
        "colab_type": "code",
        "colab": {}
      },
      "source": [
        "points = 500\n",
        "X = np.linspace(-3, 3, points)\n",
        "y = np.sin(X) + np.random.uniform(-0.5, 0.5, points)"
      ],
      "execution_count": 0,
      "outputs": []
    },
    {
      "cell_type": "code",
      "metadata": {
        "id": "aE_TuRhuXyLW",
        "colab_type": "code",
        "colab": {
          "base_uri": "https://localhost:8080/",
          "height": 34
        },
        "outputId": "6f9a5473-d78c-4920-ab87-650ec1b35c78"
      },
      "source": [
        "from absl import logging\n",
        "logging._warn_preinit_stderr = 0\n",
        "logging.warning('Worrying Stuff')\n",
        "\n",
        "model = Sequential()\n",
        "model.add(Dense(50, activation='sigmoid', input_dim=1))\n",
        "model.add(Dense(30, activation='sigmoid'))\n",
        "model.add(Dense(1))"
      ],
      "execution_count": 7,
      "outputs": [
        {
          "output_type": "stream",
          "text": [
            "W0826 22:30:26.066302 139911963703168 <ipython-input-7-a0cdcf69e9cf>:3] Worrying Stuff\n"
          ],
          "name": "stderr"
        }
      ]
    },
    {
      "cell_type": "code",
      "metadata": {
        "id": "Cb-kjMZxXzdB",
        "colab_type": "code",
        "colab": {
          "base_uri": "https://localhost:8080/",
          "height": 1000
        },
        "outputId": "81fcab4b-1c70-408a-c63f-dd53fa47f015"
      },
      "source": [
        "adam = Adam(lr=0.01)\n",
        "model.compile(loss='mse', optimizer=adam)\n",
        "model.fit(X, y, epochs=50)"
      ],
      "execution_count": 8,
      "outputs": [
        {
          "output_type": "stream",
          "text": [
            "Epoch 1/50\n",
            "500/500 [==============================] - 0s 501us/step - loss: 0.3718\n",
            "Epoch 2/50\n",
            "500/500 [==============================] - 0s 43us/step - loss: 0.2615\n",
            "Epoch 3/50\n",
            "500/500 [==============================] - 0s 43us/step - loss: 0.2427\n",
            "Epoch 4/50\n",
            "500/500 [==============================] - 0s 43us/step - loss: 0.2410\n",
            "Epoch 5/50\n",
            "500/500 [==============================] - 0s 42us/step - loss: 0.2376\n",
            "Epoch 6/50\n",
            "500/500 [==============================] - 0s 42us/step - loss: 0.2273\n",
            "Epoch 7/50\n",
            "500/500 [==============================] - 0s 39us/step - loss: 0.2252\n",
            "Epoch 8/50\n",
            "500/500 [==============================] - 0s 41us/step - loss: 0.2215\n",
            "Epoch 9/50\n",
            "500/500 [==============================] - 0s 42us/step - loss: 0.2048\n",
            "Epoch 10/50\n",
            "500/500 [==============================] - 0s 51us/step - loss: 0.1969\n",
            "Epoch 11/50\n",
            "500/500 [==============================] - 0s 42us/step - loss: 0.1850\n",
            "Epoch 12/50\n",
            "500/500 [==============================] - 0s 49us/step - loss: 0.1724\n",
            "Epoch 13/50\n",
            "500/500 [==============================] - 0s 53us/step - loss: 0.1694\n",
            "Epoch 14/50\n",
            "500/500 [==============================] - 0s 47us/step - loss: 0.1469\n",
            "Epoch 15/50\n",
            "500/500 [==============================] - 0s 53us/step - loss: 0.1366\n",
            "Epoch 16/50\n",
            "500/500 [==============================] - 0s 42us/step - loss: 0.1292\n",
            "Epoch 17/50\n",
            "500/500 [==============================] - 0s 52us/step - loss: 0.1226\n",
            "Epoch 18/50\n",
            "500/500 [==============================] - 0s 44us/step - loss: 0.1196\n",
            "Epoch 19/50\n",
            "500/500 [==============================] - 0s 44us/step - loss: 0.1201\n",
            "Epoch 20/50\n",
            "500/500 [==============================] - 0s 47us/step - loss: 0.1138\n",
            "Epoch 21/50\n",
            "500/500 [==============================] - 0s 47us/step - loss: 0.1135\n",
            "Epoch 22/50\n",
            "500/500 [==============================] - 0s 65us/step - loss: 0.1116\n",
            "Epoch 23/50\n",
            "500/500 [==============================] - 0s 40us/step - loss: 0.1214\n",
            "Epoch 24/50\n",
            "500/500 [==============================] - 0s 47us/step - loss: 0.1128\n",
            "Epoch 25/50\n",
            "500/500 [==============================] - 0s 48us/step - loss: 0.1138\n",
            "Epoch 26/50\n",
            "500/500 [==============================] - 0s 48us/step - loss: 0.1086\n",
            "Epoch 27/50\n",
            "500/500 [==============================] - 0s 53us/step - loss: 0.1072\n",
            "Epoch 28/50\n",
            "500/500 [==============================] - 0s 45us/step - loss: 0.1096\n",
            "Epoch 29/50\n",
            "500/500 [==============================] - 0s 45us/step - loss: 0.1091\n",
            "Epoch 30/50\n",
            "500/500 [==============================] - 0s 46us/step - loss: 0.1068\n",
            "Epoch 31/50\n",
            "500/500 [==============================] - 0s 57us/step - loss: 0.1084\n",
            "Epoch 32/50\n",
            "500/500 [==============================] - 0s 44us/step - loss: 0.1092\n",
            "Epoch 33/50\n",
            "500/500 [==============================] - 0s 74us/step - loss: 0.1089\n",
            "Epoch 34/50\n",
            "500/500 [==============================] - 0s 48us/step - loss: 0.1115\n",
            "Epoch 35/50\n",
            "500/500 [==============================] - 0s 46us/step - loss: 0.1145\n",
            "Epoch 36/50\n",
            "500/500 [==============================] - 0s 45us/step - loss: 0.1196\n",
            "Epoch 37/50\n",
            "500/500 [==============================] - 0s 57us/step - loss: 0.1015\n",
            "Epoch 38/50\n",
            "500/500 [==============================] - 0s 48us/step - loss: 0.1029\n",
            "Epoch 39/50\n",
            "500/500 [==============================] - 0s 51us/step - loss: 0.1003\n",
            "Epoch 40/50\n",
            "500/500 [==============================] - 0s 43us/step - loss: 0.1014\n",
            "Epoch 41/50\n",
            "500/500 [==============================] - 0s 45us/step - loss: 0.1035\n",
            "Epoch 42/50\n",
            "500/500 [==============================] - 0s 56us/step - loss: 0.1082\n",
            "Epoch 43/50\n",
            "500/500 [==============================] - 0s 47us/step - loss: 0.1044\n",
            "Epoch 44/50\n",
            "500/500 [==============================] - 0s 62us/step - loss: 0.1040\n",
            "Epoch 45/50\n",
            "500/500 [==============================] - 0s 52us/step - loss: 0.1053\n",
            "Epoch 46/50\n",
            "500/500 [==============================] - 0s 58us/step - loss: 0.1086\n",
            "Epoch 47/50\n",
            "500/500 [==============================] - 0s 54us/step - loss: 0.1029\n",
            "Epoch 48/50\n",
            "500/500 [==============================] - 0s 48us/step - loss: 0.0965\n",
            "Epoch 49/50\n",
            "500/500 [==============================] - 0s 46us/step - loss: 0.0952\n",
            "Epoch 50/50\n",
            "500/500 [==============================] - 0s 48us/step - loss: 0.1153\n"
          ],
          "name": "stdout"
        },
        {
          "output_type": "execute_result",
          "data": {
            "text/plain": [
              "<keras.callbacks.History at 0x7f3f8bea3470>"
            ]
          },
          "metadata": {
            "tags": []
          },
          "execution_count": 8
        }
      ]
    },
    {
      "cell_type": "code",
      "metadata": {
        "id": "qzMZoVUdX1wP",
        "colab_type": "code",
        "colab": {
          "base_uri": "https://localhost:8080/",
          "height": 269
        },
        "outputId": "662dd832-ee03-4337-a5e8-193740668dce"
      },
      "source": [
        "predictions = model.predict(X)\n",
        "plt.scatter(X, y)\n",
        "plt.plot(X, predictions, 'ro')\n",
        "plt.show()"
      ],
      "execution_count": 9,
      "outputs": [
        {
          "output_type": "display_data",
          "data": {
            "image/png": "[encoded data removed]",
            "text/plain": [
              "<Figure size 432x288 with 1 Axes>"
            ]
          },
          "metadata": {
            "tags": []
          }
        }
      ]
    },
    {
      "cell_type": "code",
      "metadata": {
        "id": "O8CPg6-QX4Lu",
        "colab_type": "code",
        "colab": {}
      },
      "source": [
        ""
      ],
      "execution_count": 0,
      "outputs": []
    }
  ]
}